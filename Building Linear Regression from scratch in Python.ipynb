{
 "cells": [
  {
   "cell_type": "code",
   "execution_count": 26,
   "id": "d4c6ab29",
   "metadata": {},
   "outputs": [],
   "source": [
    "import numpy as np\n",
    "import matplotlib.pyplot as plt \n",
    "from sklearn.datasets import make_regression "
   ]
  },
  {
   "cell_type": "markdown",
   "id": "476586c4",
   "metadata": {},
   "source": [
    "# 1. DATASET"
   ]
  },
  {
   "cell_type": "markdown",
   "id": "0c4c86c6",
   "metadata": {},
   "source": [
    "Génération de données aléatoires avec une tendance linéaire avec make_regression: on a un dataset $(x, y)$ qui contient 100 exemples, et une seule variable $x$. Note: chaque fois que la cellule est executée, des données différentes sont générer. Utiliser np.random.seed(0) pour reproduire le meme Dataset a chaque fois."
   ]
  },
  {
   "cell_type": "code",
   "execution_count": 3,
   "id": "41cd88dc",
   "metadata": {},
   "outputs": [
    {
     "data": {
      "text/plain": [
       "<matplotlib.collections.PathCollection at 0x1eaeaca4b70>"
      ]
     },
     "execution_count": 3,
     "metadata": {},
     "output_type": "execute_result"
    },
    {
     "data": {
      "image/png": "[encoded data removed]",
      "text/plain": [
       "<Figure size 432x288 with 1 Axes>"
      ]
     },
     "metadata": {
      "needs_background": "light"
     },
     "output_type": "display_data"
    }
   ],
   "source": [
    "np.random.seed(0) #Pour toujours reproduire le meme dataset\n",
    "x , y =make_regression(n_samples = 100 , n_features = 1 , noise = 10)\n",
    "plt.scatter(x,y,color='blue')"
   ]
  },
  {
   "cell_type": "markdown",
   "id": "bd5dfec6",
   "metadata": {},
   "source": [
    "Important: vérifier les dimensions de x et y. On remarque que y n'a pas les dimensions (100, 1). On corrige le probleme avec np.reshape"
   ]
  },
  {
   "cell_type": "code",
   "execution_count": 5,
   "id": "74cdf888",
   "metadata": {},
   "outputs": [
    {
     "name": "stdout",
     "output_type": "stream",
     "text": [
      "(100, 1)\n",
      "(100,)\n"
     ]
    }
   ],
   "source": [
    "print(x.shape)\n",
    "print(y.shape)"
   ]
  },
  {
   "cell_type": "code",
   "execution_count": 6,
   "id": "48bd35a6",
   "metadata": {},
   "outputs": [
    {
     "name": "stdout",
     "output_type": "stream",
     "text": [
      "(100, 1)\n"
     ]
    }
   ],
   "source": [
    "#redimensionner y\n",
    "y = y.reshape(y.shape[0],1)\n",
    "print(y.shape)"
   ]
  },
  {
   "cell_type": "markdown",
   "id": "f43b7efd",
   "metadata": {},
   "source": [
    "Création de la matrice X qui contient la colonne de Biais. Pour ca, on colle l'un contre l'autre le vecteur x et un vecteur 1 (avec np.ones) de dimension égale a celle de x"
   ]
  },
  {
   "cell_type": "code",
   "execution_count": 8,
   "id": "f6229ce6",
   "metadata": {},
   "outputs": [
    {
     "name": "stdout",
     "output_type": "stream",
     "text": [
      "(100, 2)\n"
     ]
    }
   ],
   "source": [
    "X = np.hstack((x, np.ones(x.shape)))\n",
    "print(X.shape)"
   ]
  },
  {
   "cell_type": "markdown",
   "id": "93001129",
   "metadata": {},
   "source": [
    "Finalement, création d'un vecteur parametre $\\theta$, initialisé avec des coefficients aléatoires. Ce vecteur est de dimension (2, 1). Si on désire toujours reproduire le meme vecteur $\\theta$, on utilise comme avant np.random.seed(0)."
   ]
  },
  {
   "cell_type": "code",
   "execution_count": 10,
   "id": "3c3a9d5f",
   "metadata": {},
   "outputs": [
    {
     "data": {
      "text/plain": [
       "array([[1.76405235],\n",
       "       [0.40015721]])"
      ]
     },
     "execution_count": 10,
     "metadata": {},
     "output_type": "execute_result"
    }
   ],
   "source": [
    "np.random.seed(0) # pour produire toujours le meme vecteur theta aléatoire\n",
    "theta = np.random.randn(2, 1)\n",
    "theta"
   ]
  },
  {
   "cell_type": "markdown",
   "id": "ff81d358",
   "metadata": {},
   "source": [
    "# 2. Modele Linéaire"
   ]
  },
  {
   "cell_type": "markdown",
   "id": "8792b708",
   "metadata": {},
   "source": [
    "On implémente un modele $F = X.\\theta$, puis on teste le modele pour voir s'il n'y a pas de bug (bonne pratique oblige). En plus, cela permet de voir a quoi ressemble le modele initial, défini par la valeur de $\\theta$"
   ]
  },
  {
   "cell_type": "code",
   "execution_count": 11,
   "id": "4ba34e9e",
   "metadata": {},
   "outputs": [],
   "source": [
    "def model(X, theta):\n",
    "    return X.dot(theta)"
   ]
  },
  {
   "cell_type": "code",
   "execution_count": 12,
   "id": "723ce199",
   "metadata": {},
   "outputs": [
    {
     "data": {
      "text/plain": [
       "[<matplotlib.lines.Line2D at 0x1eaead7eef0>]"
      ]
     },
     "execution_count": 12,
     "metadata": {},
     "output_type": "execute_result"
    },
    {
     "data": {
      "image/png": "[encoded data removed]",
      "text/plain": [
       "<Figure size 432x288 with 1 Axes>"
      ]
     },
     "metadata": {
      "needs_background": "light"
     },
     "output_type": "display_data"
    }
   ],
   "source": [
    "plt.scatter(x, y)\n",
    "plt.plot(x, model(X, theta), c='r')"
   ]
  },
  {
   "cell_type": "markdown",
   "id": "4f1d82b1",
   "metadata": {},
   "source": [
    "# 3. Fonction Cout  :Erreur Quadratique Moyenne "
   ]
  },
  {
   "cell_type": "markdown",
   "id": "0d4cd27c",
   "metadata": {},
   "source": [
    "On mesure les erreurs du modele sur le Dataset X, y en implémenterl'erreur quadratique moyenne,<strong> Mean Squared Error (MSE)</strong> en anglais."
   ]
  },
  {
   "cell_type": "markdown",
   "id": "e732ac71",
   "metadata": {},
   "source": [
    "$ J(\\theta) = \\frac{1}{2m} \\sum (X.\\theta - y)^2 $"
   ]
  },
  {
   "cell_type": "code",
   "execution_count": 14,
   "id": "e19c7eab",
   "metadata": {},
   "outputs": [],
   "source": [
    "def cost_function(X, y, theta):\n",
    "    m = len(y)\n",
    "    return 1/(2*m) * np.sum((model(X, theta) - y)**2)"
   ]
  },
  {
   "cell_type": "code",
   "execution_count": 15,
   "id": "599125b9",
   "metadata": {},
   "outputs": [
    {
     "data": {
      "text/plain": [
       "905.6306841935502"
      ]
     },
     "execution_count": 15,
     "metadata": {},
     "output_type": "execute_result"
    }
   ],
   "source": [
    "cost_function(X, y, theta)"
   ]
  },
  {
   "cell_type": "markdown",
   "id": "bfd81651",
   "metadata": {},
   "source": [
    "# 4. Gradients et Descente de Gradient"
   ]
  },
  {
   "cell_type": "markdown",
   "id": "316f2be5",
   "metadata": {},
   "source": [
    "On implémente la formule du gradient pour la MSE\n",
    "\n",
    "$\\frac{\\partial J(\\theta) }{\\partial \\theta} = \\frac{1}{m} X^T.(X.\\theta - y)$\n",
    "\n",
    "Ensuite on utilise cette fonction dans la descente de gradient:\n",
    "\n",
    "$\\theta = \\theta - \\alpha \\frac{\\partial J(\\theta) }{\\partial \\theta}$"
   ]
  },
  {
   "cell_type": "code",
   "execution_count": 17,
   "id": "ae77db25",
   "metadata": {},
   "outputs": [],
   "source": [
    "def grad(X, y, theta):\n",
    "    m = len(y)\n",
    "    return 1/m * X.T.dot(model(X, theta) - y)"
   ]
  },
  {
   "cell_type": "code",
   "execution_count": 18,
   "id": "bf6fb97b",
   "metadata": {},
   "outputs": [],
   "source": [
    "def gradient_descent(X, y, theta, learning_rate, n_iterations):\n",
    "    \n",
    "    cost_history = np.zeros(n_iterations) # création d'un tableau de stockage pour enregistrer l'évolution du Cout du modele\n",
    "    \n",
    "    for i in range(0, n_iterations):\n",
    "        theta = theta - learning_rate * grad(X, y, theta) # mise a jour du parametre theta (formule du gradient descent)\n",
    "        cost_history[i] = cost_function(X, y, theta) # on enregistre la valeur du Cout au tour i dans cost_history[i]\n",
    "        \n",
    "    return theta, cost_history"
   ]
  },
  {
   "cell_type": "markdown",
   "id": "7169d51a",
   "metadata": {},
   "source": [
    "# 5. Phase d'entrainement"
   ]
  },
  {
   "cell_type": "markdown",
   "id": "b07e9e80",
   "metadata": {},
   "source": [
    "On définit un nombre d'itérations, ainsi qu'un pas d'apprentissage $\\alpha$, et c'est partit !\n",
    "\n",
    "Une fois le modele entrainé, on observe les resultats par rapport a notre Dataset"
   ]
  },
  {
   "cell_type": "code",
   "execution_count": 19,
   "id": "a97c10a3",
   "metadata": {},
   "outputs": [],
   "source": [
    "n_iterations = 1000\n",
    "learning_rate = 0.01\n",
    "theta_final, cost_history = gradient_descent(X, y, theta, learning_rate, n_iterations)"
   ]
  },
  {
   "cell_type": "code",
   "execution_count": 20,
   "id": "9c3ab7bc",
   "metadata": {},
   "outputs": [
    {
     "data": {
      "text/plain": [
       "array([[42.61765864],\n",
       "       [-0.81309274]])"
      ]
     },
     "execution_count": 20,
     "metadata": {},
     "output_type": "execute_result"
    }
   ],
   "source": [
    "theta_final # voici les parametres du modele une fois que la machine a été entrainée"
   ]
  },
  {
   "cell_type": "code",
   "execution_count": 21,
   "id": "37cc2f16",
   "metadata": {},
   "outputs": [
    {
     "data": {
      "text/plain": [
       "[<matplotlib.lines.Line2D at 0x1eaeadf4908>]"
      ]
     },
     "execution_count": 21,
     "metadata": {},
     "output_type": "execute_result"
    },
    {
     "data": {
      "image/png": "[encoded data removed]",
      "text/plain": [
       "<Figure size 432x288 with 1 Axes>"
      ]
     },
     "metadata": {
      "needs_background": "light"
     },
     "output_type": "display_data"
    }
   ],
   "source": [
    "# création d'un vecteur prédictions qui contient les prédictions de notre modele final\n",
    "predictions = model(X, theta_final)\n",
    "# Affiche les résultats de prédictions (en rouge) par rapport a notre Dataset (en bleu)\n",
    "plt.scatter(x, y)\n",
    "plt.plot(x, predictions, c='r')"
   ]
  },
  {
   "cell_type": "markdown",
   "id": "17a19604",
   "metadata": {},
   "source": [
    "# 6. Courbes d'apprentissage"
   ]
  },
  {
   "cell_type": "markdown",
   "id": "f7b606d9",
   "metadata": {},
   "source": [
    "Pour vérifier si notre algorithme de Descente de gradient a bien fonctionné, on observe l'évolution de la fonction cout a travers les itérations. On est sensé obtenir une courbe qui diminue a chaque itération jusqu'a stagner a un niveau minimal (proche de zéro). Si la courbe ne suit pas ce motif, alors le pas learning_rate est peut-etre trop élevé, il faut prendre un pas plus faible."
   ]
  },
  {
   "cell_type": "code",
   "execution_count": 23,
   "id": "bbe35b23",
   "metadata": {},
   "outputs": [
    {
     "data": {
      "text/plain": [
       "[<matplotlib.lines.Line2D at 0x1eaebe90828>]"
      ]
     },
     "execution_count": 23,
     "metadata": {},
     "output_type": "execute_result"
    },
    {
     "data": {
      "image/png": "[encoded data removed]",
      "text/plain": [
       "<Figure size 432x288 with 1 Axes>"
      ]
     },
     "metadata": {
      "needs_background": "light"
     },
     "output_type": "display_data"
    }
   ],
   "source": [
    "plt.plot(range(n_iterations), cost_history)"
   ]
  },
  {
   "cell_type": "markdown",
   "id": "6261dc48",
   "metadata": {},
   "source": [
    "# 7. Evaluation finale"
   ]
  },
  {
   "cell_type": "markdown",
   "id": "f3137b04",
   "metadata": {},
   "source": [
    "Pour évaluer la réelle performance de notre modele avec une métrique populaire (pour votre patron, client, ou vos collegues) on peut utiliser le coefficient de détermination, aussi connu sous le nom $R^2$. Il nous vient de la méthode des moindres carrés. Plus le résultat est proche de 1, meilleur est votre modele"
   ]
  },
  {
   "cell_type": "code",
   "execution_count": 24,
   "id": "3ff7f551",
   "metadata": {},
   "outputs": [],
   "source": [
    "def coef_determination(y, pred):\n",
    "    u = ((y - pred)**2).sum()\n",
    "    v = ((y - y.mean())**2).sum()\n",
    "    return 1 - u/v"
   ]
  },
  {
   "cell_type": "code",
   "execution_count": 25,
   "id": "4ce288ba",
   "metadata": {},
   "outputs": [
    {
     "data": {
      "text/plain": [
       "0.9417294706504984"
      ]
     },
     "execution_count": 25,
     "metadata": {},
     "output_type": "execute_result"
    }
   ],
   "source": [
    "coef_determination(y, predictions)"
   ]
  },
  {
   "cell_type": "code",
   "execution_count": null,
   "id": "9008aa0e",
   "metadata": {},
   "outputs": [],
   "source": []
  }
 ],
 "metadata": {
  "kernelspec": {
   "display_name": "Python 3 (ipykernel)",
   "language": "python",
   "name": "python3"
  },
  "language_info": {
   "codemirror_mode": {
    "name": "ipython",
    "version": 3
   },
   "file_extension": ".py",
   "mimetype": "text/x-python",
   "name": "python",
   "nbconvert_exporter": "python",
   "pygments_lexer": "ipython3",
   "version": "3.7.0"
  }
 },
 "nbformat": 4,
 "nbformat_minor": 5
}
