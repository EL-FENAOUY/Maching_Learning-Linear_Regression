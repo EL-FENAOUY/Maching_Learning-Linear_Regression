{
 "cells": [
  {
   "cell_type": "markdown",
   "id": "4cffcdc2",
   "metadata": {},
   "source": [
    "# # La Régression linéaire"
   ]
  },
  {
   "cell_type": "markdown",
   "id": "f22da898",
   "metadata": {},
   "source": [
    "Quand on s'interroge sur l'évolution de la bourse,du cout de la vie ,de l'évolution de son salaire,le prix de son loyer...En fait on cherche à résoudre un problème de régression. "
   ]
  },
  {
   "cell_type": "markdown",
   "id": "16dd8930",
   "metadata": {},
   "source": [
    "<strong>Un modèle de régression linèaire permet grace au jeux de données (dataset) de tirer des corrélation et d'anticiper des valeurs futures.</strong>"
   ]
  },
  {
   "cell_type": "markdown",
   "id": "1dd52674",
   "metadata": {},
   "source": [
    "Par exemple en examinant le prix de l'immobilier sur les 10 dernières années on va etre capable de prédire le prix de l'immobilier dans le futur."
   ]
  },
  {
   "cell_type": "code",
   "execution_count": 1,
   "id": "fe253653",
   "metadata": {},
   "outputs": [],
   "source": [
    "#Importer les librairies \n",
    "import pandas as pd\n",
    "import matplotlib.pyplot as plt \n",
    "from sklearn.model_selection import train_test_split\n",
    "from sklearn.linear_model import LinearRegression "
   ]
  },
  {
   "cell_type": "code",
   "execution_count": 2,
   "id": "46f615ce",
   "metadata": {},
   "outputs": [],
   "source": [
    "data = pd.read_csv('E:/maching learning/REGRESSION LINEAIRE/valeurs_trimestrielles.csv',sep=';')"
   ]
  },
  {
   "cell_type": "code",
   "execution_count": 16,
   "id": "d46989f7",
   "metadata": {},
   "outputs": [],
   "source": [
    "X = data.iloc[:,:-1].values\n",
    "y =data.iloc[:,1:].values"
   ]
  },
  {
   "cell_type": "code",
   "execution_count": 23,
   "id": "4dd21a5d",
   "metadata": {},
   "outputs": [
    {
     "data": {
      "image/png": "[encoded data removed]",
      "text/plain": [
       "<Figure size 432x288 with 1 Axes>"
      ]
     },
     "metadata": {
      "needs_background": "light"
     },
     "output_type": "display_data"
    }
   ],
   "source": [
    "#Afficher les points\n",
    "plt.scatter(X, y, c='red', alpha=1)\n",
    "plt.show()"
   ]
  },
  {
   "cell_type": "code",
   "execution_count": 24,
   "id": "c27ee572",
   "metadata": {},
   "outputs": [],
   "source": [
    "X_train , X_test , y_train , y_test = train_test_split(X,y,test_size= 0.2 )"
   ]
  },
  {
   "cell_type": "code",
   "execution_count": 26,
   "id": "b8cfc14f",
   "metadata": {},
   "outputs": [
    {
     "data": {
      "text/plain": [
       "LinearRegression()"
      ]
     },
     "execution_count": 26,
     "metadata": {},
     "output_type": "execute_result"
    }
   ],
   "source": [
    "#Constructeur du modèle \n",
    "regressor = LinearRegression()\n",
    "regressor.fit(X_train,y_train)"
   ]
  },
  {
   "cell_type": "code",
   "execution_count": 33,
   "id": "e79fec20",
   "metadata": {},
   "outputs": [
    {
     "data": {
      "text/plain": [
       "array([[141.56887308]])"
      ]
     },
     "execution_count": 33,
     "metadata": {},
     "output_type": "execute_result"
    }
   ],
   "source": [
    "#Faire de nouvelles prédictions\n",
    "y_pred = regressor.predict(X_test)\n",
    "regressor.predict([[98]])"
   ]
  },
  {
   "cell_type": "code",
   "execution_count": 32,
   "id": "74aa0b59",
   "metadata": {},
   "outputs": [
    {
     "data": {
      "image/png": "[encoded data removed]",
      "text/plain": [
       "<Figure size 432x288 with 1 Axes>"
      ]
     },
     "metadata": {
      "needs_background": "light"
     },
     "output_type": "display_data"
    }
   ],
   "source": [
    "#Visualiser Les Résultats \n",
    "plt.scatter(X,y,color='red')\n",
    "plt.plot(X_train,regressor.predict(X_train),color='blue')\n",
    "plt.title('Evolution des loyers')\n",
    "plt.xlabel('Trimestre')\n",
    "plt.ylabel('Loyer')\n",
    "plt.show()"
   ]
  },
  {
   "cell_type": "code",
   "execution_count": null,
   "id": "51e2af99",
   "metadata": {},
   "outputs": [],
   "source": []
  }
 ],
 "metadata": {
  "kernelspec": {
   "display_name": "Python 3 (ipykernel)",
   "language": "python",
   "name": "python3"
  },
  "language_info": {
   "codemirror_mode": {
    "name": "ipython",
    "version": 3
   },
   "file_extension": ".py",
   "mimetype": "text/x-python",
   "name": "python",
   "nbconvert_exporter": "python",
   "pygments_lexer": "ipython3",
   "version": "3.7.0"
  }
 },
 "nbformat": 4,
 "nbformat_minor": 5
}
